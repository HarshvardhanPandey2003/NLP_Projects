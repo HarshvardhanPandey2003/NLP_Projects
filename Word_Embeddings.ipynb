{
 "cells": [
  {
   "cell_type": "code",
   "execution_count": 14,
   "metadata": {},
   "outputs": [],
   "source": [
    "from tensorflow.keras.preprocessing.text import one_hot"
   ]
  },
  {
   "cell_type": "code",
   "execution_count": 15,
   "metadata": {},
   "outputs": [],
   "source": [
    "sent=[  'the glass of milk',\n",
    "     'the glass of juice',\n",
    "     'the cup of tea',\n",
    "    'I am a good boy',\n",
    "     'I am a good developer',\n",
    "     'understand the meaning of words',\n",
    "     'your videos are good']"
   ]
  },
  {
   "cell_type": "code",
   "execution_count": 16,
   "metadata": {},
   "outputs": [
    {
     "name": "stdout",
     "output_type": "stream",
     "text": [
      "Length of the longest statement: 5\n"
     ]
    }
   ],
   "source": [
    "max_length = max(len(line.split()) for line in sent)\n",
    "\n",
    "print(\"Length of the longest statement:\", max_length)"
   ]
  },
  {
   "cell_type": "code",
   "execution_count": 17,
   "metadata": {},
   "outputs": [],
   "source": [
    "### Vocabulary size\n",
    "voc_size=500"
   ]
  },
  {
   "cell_type": "code",
   "execution_count": 18,
   "metadata": {},
   "outputs": [
    {
     "name": "stdout",
     "output_type": "stream",
     "text": [
      "[[331, 227, 115, 334], [331, 227, 115, 371], [331, 223, 115, 149], [462, 250, 239, 127, 392], [462, 250, 239, 127, 6], [281, 331, 470, 115, 234], [157, 56, 261, 127]]\n"
     ]
    }
   ],
   "source": [
    "onehot_repr=[one_hot(words,voc_size) for words in sent] \n",
    "# This means convert ever word into the vocabulary size in the list sentences\n",
    "print(onehot_repr)      "
   ]
  },
  {
   "cell_type": "code",
   "execution_count": 19,
   "metadata": {},
   "outputs": [],
   "source": [
    "from tensorflow.keras.layers import Embedding\n",
    "from tensorflow.keras.preprocessing.sequence import pad_sequences\n",
    "from tensorflow.keras.models import Sequential"
   ]
  },
  {
   "cell_type": "code",
   "execution_count": 20,
   "metadata": {},
   "outputs": [],
   "source": [
    "import numpy as np"
   ]
  },
  {
   "cell_type": "markdown",
   "metadata": {},
   "source": [
    "Here what we do is we make padding of 8 cloumns add zeros before those statemnets whose length is less than 8 "
   ]
  },
  {
   "cell_type": "code",
   "execution_count": 21,
   "metadata": {},
   "outputs": [
    {
     "name": "stdout",
     "output_type": "stream",
     "text": [
      "[[  0   0   0   0 331 227 115 334]\n",
      " [  0   0   0   0 331 227 115 371]\n",
      " [  0   0   0   0 331 223 115 149]\n",
      " [  0   0   0 462 250 239 127 392]\n",
      " [  0   0   0 462 250 239 127   6]\n",
      " [  0   0   0 281 331 470 115 234]\n",
      " [  0   0   0   0 157  56 261 127]]\n"
     ]
    }
   ],
   "source": [
    "## pre padding\n",
    "sent_length=8\n",
    "embedded_docs=pad_sequences(onehot_repr,padding='pre',maxlen=sent_length)\n",
    "\n",
    "print(embedded_docs)"
   ]
  },
  {
   "cell_type": "code",
   "execution_count": 22,
   "metadata": {},
   "outputs": [],
   "source": [
    "## 10 feature dimesnions\n",
    "dim=10\n"
   ]
  },
  {
   "cell_type": "code",
   "execution_count": 23,
   "metadata": {},
   "outputs": [],
   "source": [
    "model=Sequential()\n",
    "model.add(Embedding(voc_size,10,input_length=sent_length))\n",
    "model.compile('adam','mse')"
   ]
  },
  {
   "cell_type": "code",
   "execution_count": 24,
   "metadata": {},
   "outputs": [
    {
     "name": "stdout",
     "output_type": "stream",
     "text": [
      "Model: \"sequential_1\"\n",
      "_________________________________________________________________\n",
      " Layer (type)                Output Shape              Param #   \n",
      "=================================================================\n",
      " embedding_1 (Embedding)     (None, 8, 10)             5000      \n",
      "                                                                 \n",
      "=================================================================\n",
      "Total params: 5000 (19.53 KB)\n",
      "Trainable params: 5000 (19.53 KB)\n",
      "Non-trainable params: 0 (0.00 Byte)\n",
      "_________________________________________________________________\n"
     ]
    }
   ],
   "source": [
    "model.summary()"
   ]
  },
  {
   "cell_type": "code",
   "execution_count": 25,
   "metadata": {},
   "outputs": [
    {
     "name": "stdout",
     "output_type": "stream",
     "text": [
      "1/1 [==============================] - 0s 69ms/step\n"
     ]
    },
    {
     "data": {
      "text/plain": [
       "array([[-0.00329955, -0.01746704,  0.04325211,  0.04216815, -0.01387668,\n",
       "        -0.00745512,  0.0273121 ,  0.02661324, -0.00896993, -0.01448248],\n",
       "       [-0.00329955, -0.01746704,  0.04325211,  0.04216815, -0.01387668,\n",
       "        -0.00745512,  0.0273121 ,  0.02661324, -0.00896993, -0.01448248],\n",
       "       [-0.00329955, -0.01746704,  0.04325211,  0.04216815, -0.01387668,\n",
       "        -0.00745512,  0.0273121 ,  0.02661324, -0.00896993, -0.01448248],\n",
       "       [-0.00329955, -0.01746704,  0.04325211,  0.04216815, -0.01387668,\n",
       "        -0.00745512,  0.0273121 ,  0.02661324, -0.00896993, -0.01448248],\n",
       "       [-0.00650359,  0.01464744, -0.01151357,  0.03610105,  0.00290599,\n",
       "        -0.01979535,  0.00420054,  0.03637863,  0.0370076 ,  0.03646285],\n",
       "       [-0.04832684, -0.01159501,  0.04414817,  0.01672225,  0.00789487,\n",
       "        -0.04383813, -0.04101064, -0.04961465, -0.02359298,  0.0209255 ],\n",
       "       [-0.01906289,  0.02909409, -0.02876822, -0.00975039, -0.03107313,\n",
       "        -0.03975691, -0.03243393, -0.00101523, -0.03353322,  0.00046428],\n",
       "       [-0.03402957, -0.02362052, -0.04053323,  0.03261372, -0.01740384,\n",
       "        -0.03324772,  0.03970278,  0.00373808,  0.0326172 , -0.00182427]],\n",
       "      dtype=float32)"
      ]
     },
     "execution_count": 25,
     "metadata": {},
     "output_type": "execute_result"
    }
   ],
   "source": [
    "model.predict(embedded_docs[0])"
   ]
  },
  {
   "cell_type": "code",
   "execution_count": 26,
   "metadata": {},
   "outputs": [
    {
     "name": "stdout",
     "output_type": "stream",
     "text": [
      "1/1 [==============================] - 0s 93ms/step\n",
      "[[-0.00329955 -0.01746704  0.04325211  0.04216815 -0.01387668 -0.00745512\n",
      "   0.0273121   0.02661324 -0.00896993 -0.01448248]\n",
      " [-0.00329955 -0.01746704  0.04325211  0.04216815 -0.01387668 -0.00745512\n",
      "   0.0273121   0.02661324 -0.00896993 -0.01448248]\n",
      " [-0.00329955 -0.01746704  0.04325211  0.04216815 -0.01387668 -0.00745512\n",
      "   0.0273121   0.02661324 -0.00896993 -0.01448248]\n",
      " [-0.00329955 -0.01746704  0.04325211  0.04216815 -0.01387668 -0.00745512\n",
      "   0.0273121   0.02661324 -0.00896993 -0.01448248]\n",
      " [-0.00650359  0.01464744 -0.01151357  0.03610105  0.00290599 -0.01979535\n",
      "   0.00420054  0.03637863  0.0370076   0.03646285]\n",
      " [-0.04832684 -0.01159501  0.04414817  0.01672225  0.00789487 -0.04383813\n",
      "  -0.04101064 -0.04961465 -0.02359298  0.0209255 ]\n",
      " [-0.01906289  0.02909409 -0.02876822 -0.00975039 -0.03107313 -0.03975691\n",
      "  -0.03243393 -0.00101523 -0.03353322  0.00046428]\n",
      " [-0.03402957 -0.02362052 -0.04053323  0.03261372 -0.01740384 -0.03324772\n",
      "   0.03970278  0.00373808  0.0326172  -0.00182427]]\n"
     ]
    }
   ],
   "source": [
    "print(model.predict(embedded_docs)[0])"
   ]
  },
  {
   "cell_type": "code",
   "execution_count": null,
   "metadata": {},
   "outputs": [],
   "source": []
  }
 ],
 "metadata": {
  "kernelspec": {
   "display_name": "Python 3",
   "language": "python",
   "name": "python3"
  },
  "language_info": {
   "codemirror_mode": {
    "name": "ipython",
    "version": 3
   },
   "file_extension": ".py",
   "mimetype": "text/x-python",
   "name": "python",
   "nbconvert_exporter": "python",
   "pygments_lexer": "ipython3",
   "version": "3.11.3"
  }
 },
 "nbformat": 4,
 "nbformat_minor": 2
}
