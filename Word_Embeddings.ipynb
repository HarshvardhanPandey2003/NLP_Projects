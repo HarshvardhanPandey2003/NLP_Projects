{
 "cells": [
  {
   "cell_type": "code",
   "execution_count": 12,
   "metadata": {},
   "outputs": [],
   "source": [
    "from tensorflow.keras.preprocessing.text import one_hot"
   ]
  },
  {
   "cell_type": "code",
   "execution_count": 13,
   "metadata": {},
   "outputs": [],
   "source": [
    "sent=[  'the glass of milk',\n",
    "     'the glass of juice',\n",
    "     'the cup of tea',\n",
    "    'I am a good boy',\n",
    "     'I am a good developer',\n",
    "     'understand the meaning of words',\n",
    "     'your videos are good']"
   ]
  },
  {
   "cell_type": "code",
   "execution_count": 14,
   "metadata": {},
   "outputs": [
    {
     "name": "stdout",
     "output_type": "stream",
     "text": [
      "Length of the longest statement: 5\n"
     ]
    }
   ],
   "source": [
    "max_length = max(len(line.split()) for line in sent)\n",
    "\n",
    "print(\"Length of the longest statement:\", max_length)"
   ]
  },
  {
   "cell_type": "code",
   "execution_count": 15,
   "metadata": {},
   "outputs": [],
   "source": [
    "### Vocabulary size\n",
    "voc_size=500"
   ]
  },
  {
   "cell_type": "code",
   "execution_count": 16,
   "metadata": {},
   "outputs": [
    {
     "name": "stdout",
     "output_type": "stream",
     "text": [
      "[[122, 156, 407, 375], [122, 156, 407, 355], [122, 384, 407, 131], [200, 113, 248, 276, 373], [200, 113, 248, 276, 273], [384, 122, 195, 407, 474], [390, 132, 462, 276]]\n"
     ]
    }
   ],
   "source": [
    "onehot_repr=[one_hot(words,voc_size) for words in sent] \n",
    "# This means convert ever word into the vocabulary size in the list sentences\n",
    "print(onehot_repr)      "
   ]
  },
  {
   "cell_type": "code",
   "execution_count": 17,
   "metadata": {},
   "outputs": [],
   "source": [
    "from tensorflow.keras.layers import Embedding\n",
    "from tensorflow.keras.preprocessing.sequence import pad_sequences\n",
    "from tensorflow.keras.models import Sequential"
   ]
  },
  {
   "cell_type": "code",
   "execution_count": 18,
   "metadata": {},
   "outputs": [],
   "source": [
    "import numpy as np"
   ]
  },
  {
   "cell_type": "markdown",
   "metadata": {},
   "source": [
    "Here what we do is we make padding of 8 cloumns add zeros before those statemnets whose length is less than 8 "
   ]
  },
  {
   "cell_type": "code",
   "execution_count": 19,
   "metadata": {},
   "outputs": [
    {
     "name": "stdout",
     "output_type": "stream",
     "text": [
      "[[  0   0   0   0 122 156 407 375]\n",
      " [  0   0   0   0 122 156 407 355]\n",
      " [  0   0   0   0 122 384 407 131]\n",
      " [  0   0   0 200 113 248 276 373]\n",
      " [  0   0   0 200 113 248 276 273]\n",
      " [  0   0   0 384 122 195 407 474]\n",
      " [  0   0   0   0 390 132 462 276]]\n"
     ]
    }
   ],
   "source": [
    "## pre padding\n",
    "sent_length=8\n",
    "embedded_docs=pad_sequences(onehot_repr,padding='pre',maxlen=sent_length)\n",
    "\n",
    "print(embedded_docs)"
   ]
  },
  {
   "cell_type": "code",
   "execution_count": 20,
   "metadata": {},
   "outputs": [],
   "source": [
    "## 10 feature dimesnions\n",
    "dim=10\n"
   ]
  },
  {
   "cell_type": "code",
   "execution_count": 21,
   "metadata": {},
   "outputs": [],
   "source": [
    "model=Sequential()\n",
    "model.add(Embedding(voc_size,10,input_length=sent_length))\n",
    "model.compile('adam','mse')"
   ]
  },
  {
   "cell_type": "code",
   "execution_count": 22,
   "metadata": {},
   "outputs": [
    {
     "name": "stdout",
     "output_type": "stream",
     "text": [
      "Model: \"sequential_1\"\n",
      "_________________________________________________________________\n",
      " Layer (type)                Output Shape              Param #   \n",
      "=================================================================\n",
      " embedding (Embedding)       (None, 8, 10)             5000      \n",
      "                                                                 \n",
      "=================================================================\n",
      "Total params: 5000 (19.53 KB)\n",
      "Trainable params: 5000 (19.53 KB)\n",
      "Non-trainable params: 0 (0.00 Byte)\n",
      "_________________________________________________________________\n"
     ]
    }
   ],
   "source": [
    "model.summary()"
   ]
  },
  {
   "cell_type": "code",
   "execution_count": 23,
   "metadata": {},
   "outputs": [
    {
     "name": "stdout",
     "output_type": "stream",
     "text": [
      "1/1 [==============================] - 0s 241ms/step\n"
     ]
    },
    {
     "data": {
      "text/plain": [
       "array([[-0.01959975,  0.04320956, -0.01745384,  0.02387864,  0.00182556,\n",
       "        -0.0195815 , -0.02523458, -0.01730455,  0.01000396,  0.03102596],\n",
       "       [-0.01959975,  0.04320956, -0.01745384,  0.02387864,  0.00182556,\n",
       "        -0.0195815 , -0.02523458, -0.01730455,  0.01000396,  0.03102596],\n",
       "       [-0.01959975,  0.04320956, -0.01745384,  0.02387864,  0.00182556,\n",
       "        -0.0195815 , -0.02523458, -0.01730455,  0.01000396,  0.03102596],\n",
       "       [-0.01959975,  0.04320956, -0.01745384,  0.02387864,  0.00182556,\n",
       "        -0.0195815 , -0.02523458, -0.01730455,  0.01000396,  0.03102596],\n",
       "       [-0.01495215, -0.02277734,  0.0267272 , -0.02839311,  0.00587813,\n",
       "        -0.00629707,  0.02879622,  0.02426207,  0.01792837,  0.04449237],\n",
       "       [ 0.03708472,  0.01626802,  0.03649267, -0.04434643, -0.00225797,\n",
       "        -0.03882967, -0.0119549 , -0.00034777, -0.04284225, -0.02714298],\n",
       "       [-0.03497501, -0.04269165, -0.0306077 , -0.04832708,  0.03537735,\n",
       "        -0.03582592,  0.02543852,  0.0354864 ,  0.01051297,  0.02916663],\n",
       "       [ 0.00307452, -0.01775594,  0.03380981,  0.04068496,  0.03805834,\n",
       "         0.02497998,  0.04289067,  0.03795106, -0.00946878,  0.02417416]],\n",
       "      dtype=float32)"
      ]
     },
     "execution_count": 23,
     "metadata": {},
     "output_type": "execute_result"
    }
   ],
   "source": [
    "model.predict(embedded_docs[0])"
   ]
  },
  {
   "cell_type": "code",
   "execution_count": 24,
   "metadata": {},
   "outputs": [
    {
     "name": "stdout",
     "output_type": "stream",
     "text": [
      "1/1 [==============================] - 0s 51ms/step\n",
      "[[-0.01959975  0.04320956 -0.01745384  0.02387864  0.00182556 -0.0195815\n",
      "  -0.02523458 -0.01730455  0.01000396  0.03102596]\n",
      " [-0.01959975  0.04320956 -0.01745384  0.02387864  0.00182556 -0.0195815\n",
      "  -0.02523458 -0.01730455  0.01000396  0.03102596]\n",
      " [-0.01959975  0.04320956 -0.01745384  0.02387864  0.00182556 -0.0195815\n",
      "  -0.02523458 -0.01730455  0.01000396  0.03102596]\n",
      " [-0.01959975  0.04320956 -0.01745384  0.02387864  0.00182556 -0.0195815\n",
      "  -0.02523458 -0.01730455  0.01000396  0.03102596]\n",
      " [-0.01495215 -0.02277734  0.0267272  -0.02839311  0.00587813 -0.00629707\n",
      "   0.02879622  0.02426207  0.01792837  0.04449237]\n",
      " [ 0.03708472  0.01626802  0.03649267 -0.04434643 -0.00225797 -0.03882967\n",
      "  -0.0119549  -0.00034777 -0.04284225 -0.02714298]\n",
      " [-0.03497501 -0.04269165 -0.0306077  -0.04832708  0.03537735 -0.03582592\n",
      "   0.02543852  0.0354864   0.01051297  0.02916663]\n",
      " [ 0.00307452 -0.01775594  0.03380981  0.04068496  0.03805834  0.02497998\n",
      "   0.04289067  0.03795106 -0.00946878  0.02417416]]\n"
     ]
    }
   ],
   "source": [
    "print(model.predict(embedded_docs)[0])"
   ]
  },
  {
   "cell_type": "code",
   "execution_count": null,
   "metadata": {},
   "outputs": [],
   "source": []
  }
 ],
 "metadata": {
  "kernelspec": {
   "display_name": "Python 3",
   "language": "python",
   "name": "python3"
  },
  "language_info": {
   "codemirror_mode": {
    "name": "ipython",
    "version": 3
   },
   "file_extension": ".py",
   "mimetype": "text/x-python",
   "name": "python",
   "nbconvert_exporter": "python",
   "pygments_lexer": "ipython3",
   "version": "3.11.3"
  }
 },
 "nbformat": 4,
 "nbformat_minor": 2
}
